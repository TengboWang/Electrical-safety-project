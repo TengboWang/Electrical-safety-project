{
 "cells": [
  {
   "attachments": {},
   "cell_type": "markdown",
   "id": "cd5c325b",
   "metadata": {},
   "source": [
    "### Analyze DJI new dataset images"
   ]
  },
  {
   "cell_type": "code",
   "execution_count": 3,
   "id": "7173b109",
   "metadata": {},
   "outputs": [],
   "source": [
    "# 将原始图片调整为正方形尺寸\n",
    "import glob\n",
    "import os\n",
    "import cv2\n",
    "\n",
    "def getImagesInDir(dir_path):\n",
    "    image_list = []\n",
    "    for filename in glob.glob(dir_path + '/*.png'):\n",
    "        image_list.append(filename)\n",
    "    for filename in glob.glob(dir_path + '/*.jpg'):\n",
    "        image_list.append(filename)\n",
    "    return image_list\n",
    "\n",
    "src_dir = \"./DOTA_demo_view/dianli_datasets/raw_imgs/dj/DJI_0039/\"\n",
    "dst_dir = \"./DOTA_demo_view/dianli_datasets/raw_imgs/newimgs/\"\n",
    "img_paths = getImagesInDir(src_dir)\n",
    "\n",
    "for img_path in img_paths:\n",
    "    basename = os.path.basename(img_path)\n",
    "    basename_no_ext = os.path.splitext(basename)[0]\n",
    "    img = cv2.imread(img_path, cv2.IMREAD_UNCHANGED)\n",
    "    width = img.shape[0]\n",
    "    height = img.shape[0] # keep original height\n",
    "    new_width = min(width, height)\n",
    "    dim = (new_width, new_width)\n",
    "    resized = cv2.resize(img, dim, interpolation = cv2.INTER_AREA)\n",
    "    cv2.imwrite(dst_dir+basename_no_ext+\".jpg\", resized)\n"
   ]
  },
  {
   "cell_type": "code",
   "execution_count": 52,
   "id": "0abe8810",
   "metadata": {},
   "outputs": [
    {
     "name": "stdout",
     "output_type": "stream",
     "text": [
      "Namespace(agnostic_nms=False, augment=False, classes=None, conf_thres=0.2, device='1,2,3,4,5,6,7', img_size=640, iou_thres=0.1, output='/home/huasi/Data/dianli/videos/det_visualization', save_txt=False, source='/home/huasi/Data/dianli/videos/DJI_0002', update=False, view_img=False, weights=['./runs/exp46/weights/best.pt'])\n",
      "Using CUDA device0 _CudaDeviceProperties(name='NVIDIA GeForce RTX 3090', total_memory=24268MB)\n",
      "           device1 _CudaDeviceProperties(name='NVIDIA GeForce RTX 3090', total_memory=24268MB)\n",
      "           device2 _CudaDeviceProperties(name='NVIDIA GeForce RTX 3090', total_memory=24268MB)\n",
      "           device3 _CudaDeviceProperties(name='NVIDIA GeForce RTX 3090', total_memory=24268MB)\n",
      "           device4 _CudaDeviceProperties(name='NVIDIA GeForce RTX 3090', total_memory=24268MB)\n",
      "           device5 _CudaDeviceProperties(name='NVIDIA GeForce RTX 3090', total_memory=24268MB)\n",
      "           device6 _CudaDeviceProperties(name='NVIDIA GeForce RTX 3090', total_memory=24268MB)\n",
      "\n",
      "Fusing layers... \n",
      "Model Summary: 172 layers, 2.18054e+07 parameters, 0 gradients\n",
      "/home/huasi/miniconda3/envs/objdet/lib/python3.8/site-packages/torch/functional.py:568: UserWarning: torch.meshgrid: in an upcoming release, it will be required to pass the indexing argument. (Triggered internally at  ../aten/src/ATen/native/TensorShape.cpp:2228.)\n",
      "  return _VF.meshgrid(tensors, **kwargs)  # type: ignore[attr-defined]\n",
      "image 1/102 /home/huasi/Data/dianli/videos/DJI_0002/DJI_0002-00000000101.jpg: (3, 384, 640)\n",
      "384x640 Done. (0.035s)\n",
      "image 2/102 /home/huasi/Data/dianli/videos/DJI_0002/DJI_0002-00000000102.jpg: (3, 384, 640)\n",
      "384x640 Done. (0.017s)\n",
      "image 3/102 /home/huasi/Data/dianli/videos/DJI_0002/DJI_0002-00000000103.jpg: (3, 384, 640)\n",
      "((314, 156), (79, 29), -89)\n",
      "[[       2098        1104]\n",
      " [     1912.4      1100.7]\n",
      " [     1921.2      595.22]\n",
      " [     2106.8      598.46]]\n",
      "((2009.6002197265625, 849.6000366210938), (185.60031127929688, 505.6001892089844), 0.9999902844429016)\n",
      "θ计算出现异常，当前数据为：2009.6002197265625000, 849.6000366210937500, 185.6003112792968750, 505.6001892089843750, 1.0;超出opencv表示法的范围：[-90,0)\n",
      "Traceback (most recent call last):\n",
      "  File \"detect.py\", line 254, in <module>\n",
      "    detect()\n",
      "  File \"detect.py\", line 156, in detect\n",
      "    det[:, :5] = scale_labels(img.shape[2:], det[:, :5], im0.shape).round()\n",
      "  File \"/home/huasi/users/wangtengbo/dianli/YOLOv5_DOTA_OBB-master/utils/general.py\", line 302, in scale_labels\n",
      "    label[-1] = int(label[-1] + 180.5)  # range int[0,180] 四舍五入\n",
      "IndexError: too many indices for array: array is 0-dimensional, but 1 were indexed\n"
     ]
    }
   ],
   "source": [
    "# 检测推理模型的效果 \n",
    "# !python detect.py --weight=\"./runs/exp16/weights/best.pt\" \\\n",
    "#      --source=\"./DOTA_demo_view/dianli_datasets/raw_imgs/newimgs/\" \\\n",
    "#      --output=\"./DOTA_demo_view/dianli_datasets/det_visualization/\"\n",
    "# /home/huasi/users/wangtengbo/dianli/YOLOv5_DOTA_OBB-master/runs/exp46/weights/best.pt\n",
    "\n",
    "!python detect.py --weight=\"./runs/exp46/weights/best.pt\" \\\n",
    "     --source=\"/home/huasi/Data/dianli/videos/DJI_0002\" \\\n",
    "     --output=\"/home/huasi/Data/dianli/videos/det_visualization\""
   ]
  },
  {
   "cell_type": "code",
   "execution_count": 51,
   "id": "892a27cc",
   "metadata": {},
   "outputs": [
    {
     "name": "stdout",
     "output_type": "stream",
     "text": [
      "((2009.599853515625, 849.6099853515625), (185.62930297851562, 505.62554931640625), 0.9973644614219666)\n"
     ]
    }
   ],
   "source": [
    "import cv2\n",
    "import numpy as np\n",
    "# rect = ((314., 157.0), (66.3, 31), -89)\n",
    "poly = np.float32([\n",
    "    [       2098,        1104],\n",
    "    [     1912.4,      1100.7],\n",
    "    [     1921.2,      595.22],\n",
    "    [     2106.8,      598.46],\n",
    "    ])\n",
    "mr = cv2.minAreaRect(poly)\n",
    "print(mr)\n",
    "print(cv2.__version__)\n",
    "\n",
    "# cv2.boxPoints(((314., 157.0), (66.3, 31), -89))\n",
    "# cv2.boxPoints(((np.int32(314), np.int32(157)), (np.int32(66), np.int32(31)), (10)))\n"
   ]
  }
 ],
 "metadata": {
  "kernelspec": {
   "display_name": "Python 3.8.12 ('v5_rotate': conda)",
   "language": "python",
   "name": "python3"
  },
  "language_info": {
   "codemirror_mode": {
    "name": "ipython",
    "version": 3
   },
   "file_extension": ".py",
   "mimetype": "text/x-python",
   "name": "python",
   "nbconvert_exporter": "python",
   "pygments_lexer": "ipython3",
   "version": "3.8.16"
  },
  "vscode": {
   "interpreter": {
    "hash": "38ffc8cfb20d471f0141d2d98be41cb6caecc430c99b67918100e11deea4089f"
   }
  }
 },
 "nbformat": 4,
 "nbformat_minor": 5
}
